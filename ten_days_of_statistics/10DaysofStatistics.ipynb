{
 "cells": [
  {
   "cell_type": "markdown",
   "metadata": {
    "collapsed": true
   },
   "source": [
    "## Day 0 - Task - 1 - Mean Median and Mode\n",
    "Given an array $X$ , of $N$ integers, calculate and print the respective mean, median, and mode on separate lines. If your array contains more than one modal value, choose the numerically smallest one."
   ]
  },
  {
   "cell_type": "code",
   "execution_count": 1,
   "metadata": {},
   "outputs": [],
   "source": [
    "def mean(array):\n",
    "    mu = sum(array)/len(array)\n",
    "    return mu\n",
    "\n",
    "def median(array):\n",
    "    array = sorted(array)\n",
    "    half,odd = divmod(len(array),2)\n",
    "    if odd:\n",
    "        return array[half]\n",
    "    return (array[half-1] + array[half]) / 2.0\n",
    "\n",
    "def mode(array):\n",
    "    most = max(list(map(array.count,array)))\n",
    "    return min(list(set(filter(lambda x: array.count(x) == most,array))))"
   ]
  },
  {
   "cell_type": "code",
   "execution_count": 2,
   "metadata": {},
   "outputs": [
    {
     "data": {
      "text/plain": [
       "(43900, 44627.5, 4978)"
      ]
     },
     "execution_count": 2,
     "metadata": {},
     "output_type": "execute_result"
    }
   ],
   "source": [
    "data = [64630,11735,14216,99233,14470,4978,73429,38120,51135,67060]\n",
    "\n",
    "mean(data),median(data),mode(data)"
   ]
  },
  {
   "cell_type": "markdown",
   "metadata": {},
   "source": [
    "## Day 0 - Task - 2 - Weighted Mean\n",
    "Given an array,$X$ , of $N$ integers and an array,$W$ , representing the respective weights of $X$'s elements, calculate and print the weighted mean of $X$'s elements. Your answer should be rounded to a scale of $1$ decimal place (i.e.,$12.3$  format)."
   ]
  },
  {
   "cell_type": "code",
   "execution_count": 3,
   "metadata": {},
   "outputs": [],
   "source": [
    "prod = lambda x: x[0] * x[1]\n",
    "\n",
    "def weighted_mean(vector,weight):\n",
    "    vector_weight = zip(vector,weight)\n",
    "    \n",
    "    return round(sum(map(prod,vector_weight))/sum(weight),1)"
   ]
  },
  {
   "cell_type": "code",
   "execution_count": 4,
   "metadata": {},
   "outputs": [
    {
     "data": {
      "text/plain": [
       "32.0"
      ]
     },
     "execution_count": 4,
     "metadata": {},
     "output_type": "execute_result"
    }
   ],
   "source": [
    "data = [10,40,30,50,20]\n",
    "weight =  [1,2,3,4,5]\n",
    "\n",
    "weighted_mean(data,weight)"
   ]
  },
  {
   "cell_type": "markdown",
   "metadata": {},
   "source": [
    "## Day -1 Task 1 - Quartile\n",
    "Given an array,$X$, of  integers, calculate the respective first quartile ($Q_1$), second quartile ($Q_2$), and third quartile ($Q_3$). It is guaranteed that $Q_1$,$Q_2$ ,$Q_3$ and  are integers."
   ]
  },
  {
   "cell_type": "code",
   "execution_count": 5,
   "metadata": {},
   "outputs": [],
   "source": [
    "#3 7 8 5 12 14 21 13 18\n",
    "def quartiles(array):\n",
    "    \n",
    "    sorted_array = sorted(array)\n",
    "    mid = int(len(array)/2)\n",
    "    \n",
    "    if len(array)%2 == 0:\n",
    "        lower = median(sorted_array[:mid])\n",
    "        upper = median(sorted_array[mid:])\n",
    "    else:\n",
    "        lower = median(sorted_array[:mid])\n",
    "        upper = median(sorted_array[mid + 1:])\n",
    "    print int(lower)\n",
    "    print int(median(array))\n",
    "    print int(upper)"
   ]
  },
  {
   "cell_type": "code",
   "execution_count": 6,
   "metadata": {},
   "outputs": [
    {
     "name": "stdout",
     "output_type": "stream",
     "text": [
      "6\n",
      "12\n",
      "16\n"
     ]
    }
   ],
   "source": [
    "qdata = [3,7,8,5,12,14,21,13,18]\n",
    "\n",
    "quartiles(qdata)"
   ]
  },
  {
   "cell_type": "markdown",
   "metadata": {},
   "source": [
    "## Day - 1 Task 2 - Interquartile Range\n",
    "The interquartile range of an array is the difference between its first ($Q_1$) and third ($Q_3$) quartiles (i.e.,$Q_3 - Q_1$ ).\n",
    "\n",
    "Given an array, $X$, of $n$  integers and an array,$F$ , representing the respective frequencies of $X$'s elements, construct a data set, $S$, where each $x_i$ occurs at frequency $f_i$ . Then calculate and print $S$'s interquartile range, rounded to a scale of $1$ decimal place (i.e.,$12.3$  format).\n",
    "\n",
    "Tip: Be careful to not use integer division when averaging the middle two elements for a data set with an even number of elements, and be sure to not include the median in your upper and lower data sets."
   ]
  },
  {
   "cell_type": "code",
   "execution_count": 7,
   "metadata": {},
   "outputs": [
    {
     "name": "stdout",
     "output_type": "stream",
     "text": [
      "9.0\n"
     ]
    }
   ],
   "source": [
    "def iqr(array):\n",
    "    \n",
    "    sorted_array = sorted(array)\n",
    "    mid = int(len(array)/2)\n",
    "    \n",
    "    if len(array)%2 == 0:\n",
    "        lower = median(sorted_array[:mid])\n",
    "        upper = median(sorted_array[mid:])\n",
    "    else:\n",
    "        lower = median(sorted_array[:mid])\n",
    "        upper = median(sorted_array[mid + 1:])\n",
    "    iqr_ = upper - lower\n",
    "    \n",
    "    return iqr_\n",
    "\n",
    "\n",
    "def create_vector(base_vector,freq_vector):\n",
    "    final_vector = list()\n",
    "    \n",
    "    for element in range(len(base_vector)):\n",
    "        tmp_vec = map(int,((base_vector[element] + \" \") * freq_vector[element]).split())\n",
    "        final_vector.extend(tmp_vec)\n",
    "    return final_vector\n",
    "\n",
    "\n",
    "base_vector = \"6 12 8 10 20 16\".strip().split()\n",
    "freq_vector = list(map(int, \"5 4 3 2 1 5\".strip().split()))\n",
    "\n",
    "final_vec = create_vector(base_vector,freq_vector)\n",
    "print float(iqr(final_vec))"
   ]
  },
  {
   "cell_type": "markdown",
   "metadata": {},
   "source": [
    "## Day -1 - Task 3 - Standard Deviation\n",
    "Given an array,$X$ , of $N$ integers, calculate and print the standard deviation. Your answer should be in decimal form, rounded to a scale of $1$ decimal place (i.e., $12.3$ format). An error margin of  $\\pm 0.1$ will be tolerated for the standard deviation."
   ]
  },
  {
   "cell_type": "code",
   "execution_count": 8,
   "metadata": {},
   "outputs": [],
   "source": [
    "import math\n",
    "def __sum_square(array):\n",
    "    med = mean(array)\n",
    "    sumsq = sum((item - med)**2 for item in array)\n",
    "    \n",
    "    return sumsq\n",
    "\n",
    "def stdev(array):\n",
    "    ssq = __sum_square(array)\n",
    "    return math.sqrt(ssq/len(array))"
   ]
  },
  {
   "cell_type": "code",
   "execution_count": 9,
   "metadata": {},
   "outputs": [
    {
     "data": {
      "text/plain": [
       "14.142135623730951"
      ]
     },
     "execution_count": 9,
     "metadata": {},
     "output_type": "execute_result"
    }
   ],
   "source": [
    "d1t3 = [10,40,30,50,20]\n",
    "\n",
    "stdev(d1t3)"
   ]
  },
  {
   "cell_type": "markdown",
   "metadata": {},
   "source": [
    "## Day 2 - Basic Probability\n",
    "In a single toss of $2$ fair (evenly-weighted) six-sided dice, find the probability that their sum will be at most $9$.\n",
    "\n",
    "### Solution\n",
    "Six possibilities on each die . $6x6=36$ possibilities.\n",
    "\n",
    "Cases where sum greater than 10 (4,6), (5,5), (5,6), (6,4), (6,5), (6,6)\n",
    "\n",
    "probability of sum >= 10 is $6/36$ = $1/6$\n",
    "\n",
    "probability of sum <= 9 = $1-1/6$ = $5/5$\n"
   ]
  },
  {
   "cell_type": "markdown",
   "metadata": {},
   "source": [
    "## Day 2 - More Dice\n",
    "In a single toss of $2$ fair (evenly-weighted) six-sided dice, find the probability that the values rolled by each die will be different and the two dice have a sum of $6$.\n",
    "\n",
    "### Solution\n",
    "Six possibilities on each die . $6x6=36$ possibilities.\n",
    "\n",
    "Cases where the critieria matches : (1,5) (5,1) (2,4) (4,2)\n",
    "\n",
    "Overall Probability = $4/36$ = $1/9$"
   ]
  },
  {
   "cell_type": "markdown",
   "metadata": {},
   "source": [
    "## Day 2 Compound Event Probability\n",
    "There are $3$ urns labeled $X$, $Y$ , and $Z$. \n",
    "\n",
    "\n",
    "Urn $X$ contains $4$ red balls and $3$ black balls.\n",
    "Urn $Y$ contains $5$  red balls and $4$ black balls.\n",
    "Urn $Z$ contains $4$ red balls and $4$ black balls. \n",
    "\n",
    "One ball is drawn from each of the $3$ urns. What is the probability that, of the $3$ balls drawn,  $2$ are red and $1$ is black?\n",
    "\n",
    "### Solution\n",
    "\n",
    "The Urn $X$,$Y$ and $Z$ contains red and black balls.\n",
    "\n",
    "Probability of getting a red ball from Urn $X$ is $4/7$.\n",
    "\n",
    "Probability of getting a red ball from Urn $Y$ is $5/9$.\n",
    "\n",
    "Probability of getting a red ball from Urn $Z$ is $1/2$.\n",
    "\n",
    "Probability of getting a black ball from Urn $X$ is $3/7$.\n",
    "\n",
    "Probability of getting a black ball from Urn $Y$ is $4/9$.\n",
    "\n",
    "Probability of getting a black ball from Urn $Z$ is $1/2$.\n",
    "\n",
    "P( 2 red ball, 1 black ball) = P(R R B) + P(R B R) + P(B R R)\n",
    "\n",
    "                             = (4/7)(5/9)(1/2) + (4/7)(4/9)(1/2) + (3/7)(5/9)(1/2)\n",
    "                             = 20/126 + 16/126 + 15/126\n",
    "                             = 51/126\n",
    "                             = 17/42"
   ]
  },
  {
   "cell_type": "markdown",
   "metadata": {},
   "source": [
    "## Day - 3 - Conditional Proability (Girl or Boy Paradox)\n",
    "Suppose a family has $2$ children, one of which is a boy. What is the probability that both children are boys?\n",
    "\n",
    "### Solution\n",
    "\n",
    "Possible Scenarios : (B B) (G B) (B G) (G G)\n",
    "\n",
    "Senarios where one child is boy : (B B) (G B) (B G) \n",
    "\n",
    "Question \"What is the probability that both children are boys ?\" \n",
    "That is $1/3$ . There are only three scenarios where one child is a boy.\n"
   ]
  },
  {
   "cell_type": "markdown",
   "metadata": {},
   "source": [
    "## Day 3: Cards of the Same Suit\n",
    "You draw $2$ cards from a standard $52$-card deck without replacing them. What is the probability that both cards are of the same suit?\n",
    "\n",
    "### Solution\n",
    "There are $13$ cards in each suit in a deck. \n",
    "\n",
    "Assume tha first we draw one from the deck . Now $12$ more cards from the same suit is there in the deck. So the probability is $12/51$."
   ]
  },
  {
   "cell_type": "markdown",
   "metadata": {},
   "source": [
    "## Day 3: Drawing Marbles\n",
    "A bag contains $3$ red marbles and $4$ blue marbles. Then, $2$ marbles are drawn from the bag, at random, without replacement. If the first marble drawn is red, what is the probability that the second marble is blue?\n",
    "\n",
    "### Solution\n",
    "Total blue marbles $4$.\n",
    "\n",
    "Total marbles after drawing one red $6$ ( $2 + 4 $)\n",
    "\n",
    "Chance of getting a blue marble : $4/6$ = $2/3$\n"
   ]
  },
  {
   "cell_type": "markdown",
   "metadata": {},
   "source": [
    "## Day 4: Binomial Distribution I\n",
    "The ratio of boys to girls for babies born in Russia is $1.09 : 1$ . If there is $1$ child born per birth, what proportion of Russian families with exactly $6$ children will have at least $3$ boys?\n",
    "\n",
    "Write a program to compute the answer using the above parameters. Then print your result, rounded to a scale of decimal places (i.e., $11.234$  format)."
   ]
  },
  {
   "cell_type": "code",
   "execution_count": 10,
   "metadata": {},
   "outputs": [
    {
     "name": "stdout",
     "output_type": "stream",
     "text": [
      "0.696\n"
     ]
    }
   ],
   "source": [
    "def factorial(n):\n",
    "    if n == 1 or n == 0:\n",
    "        return 1\n",
    "    if n > 1:\n",
    "        return factorial(n - 1) * n\n",
    "\n",
    "def binomial(x, n, p):\n",
    "    f = factorial(n) / (factorial(n - x) * factorial(x))\n",
    "    return (f * p**x * (1.0 - p)**(n-x))\n",
    "\n",
    "\n",
    "values = [1.09,1]\n",
    "p = values[0] / (values[0] + values[1])\n",
    "n = 6\n",
    "\n",
    "# Get binomial result\n",
    "result = binomial(3,n,p) + binomial(4,n,p) + binomial(5,n,p) + binomial(6,n,p)\n",
    "print(round(result, 3))"
   ]
  },
  {
   "cell_type": "markdown",
   "metadata": {},
   "source": [
    "## Day 4: Binomial Distribution II\n",
    "A manufacturer of metal pistons finds that, on average, $12\\%$ of the pistons they manufacture are rejected because they are incorrectly sized. What is the probability that a batch of $10$ pistons will contain:\n",
    "\n",
    "No more than $2$ rejects?\n",
    "\n",
    "At least $2$ rejects?"
   ]
  },
  {
   "cell_type": "code",
   "execution_count": 11,
   "metadata": {},
   "outputs": [
    {
     "name": "stdout",
     "output_type": "stream",
     "text": [
      "1.0\n",
      "0.0\n"
     ]
    }
   ],
   "source": [
    "values = [12, 10]\n",
    "p = (values[0] / 100)\n",
    "n = int(values[1])\n",
    "\n",
    "# First rule: No more than 2 rejects\n",
    "no_more_than_2_rejects = 0\n",
    "for i in range(n):\n",
    "    if i < 3:\n",
    "        no_more_than_2_rejects += binomial(i, n, p) \n",
    "print(round(no_more_than_2_rejects, 3))\n",
    "\n",
    "# Second rule: At least 2 rejects\n",
    "at_least_2_rejects = 0\n",
    "for i in range(n):\n",
    "    if i > 1:\n",
    "        at_least_2_rejects += binomial(i, n, p)\n",
    "print(round(at_least_2_rejects, 3))"
   ]
  },
  {
   "cell_type": "markdown",
   "metadata": {},
   "source": [
    "## Day 4: Geometric Distribution I\n",
    "The probability that a machine produces a defective product is $1 \\over 3 $ . What is the probability that the $1^{st}$ defect is found during the $5^{th}$ inspection?"
   ]
  },
  {
   "cell_type": "code",
   "execution_count": 12,
   "metadata": {},
   "outputs": [
    {
     "name": "stdout",
     "output_type": "stream",
     "text": [
      "0.066\n"
     ]
    }
   ],
   "source": [
    "defective_prob = 1 / 3.0\n",
    "inspection = 5\n",
    "\n",
    "def neg_bernoulli(n, p):\n",
    "    return p * (1-p)**(n-1)\n",
    "\n",
    "print(round(neg_bernoulli(inspection, defective_prob), 3))"
   ]
  },
  {
   "cell_type": "markdown",
   "metadata": {},
   "source": [
    "## Day 4: Geometric Distribution II\n",
    "The probability that a machine produces a defective product is $1 \\over 3 $ . What is the probability that the $1^{st}$ defect is found during the first $5$ inspections?"
   ]
  },
  {
   "cell_type": "code",
   "execution_count": 13,
   "metadata": {},
   "outputs": [
    {
     "name": "stdout",
     "output_type": "stream",
     "text": [
      "0.868\n"
     ]
    }
   ],
   "source": [
    "defective_prob = 1 / 3.0\n",
    "inspection = 5\n",
    "\n",
    "prob = sum(neg_bernoulli(i, defective_prob) for i in range(1, 6))\n",
    "print(round(prob, 3))"
   ]
  },
  {
   "cell_type": "markdown",
   "metadata": {},
   "source": [
    "## Day 5: Poisson Distribution I\n",
    "A random variable,$X$ , follows Poisson distribution with mean of $2.5$ . Find the probability with which the random variable $X$ is equal to $5$."
   ]
  },
  {
   "cell_type": "code",
   "execution_count": 14,
   "metadata": {},
   "outputs": [
    {
     "data": {
      "text/plain": [
       "0.067"
      ]
     },
     "execution_count": 14,
     "metadata": {},
     "output_type": "execute_result"
    }
   ],
   "source": [
    "lbd = 2.71828\n",
    "\n",
    "def poisson_dist(k,l):\n",
    "    p = ((l**k)*((lbd)**(-l)))/math.factorial(k)\n",
    "    return round(p,3)\n",
    "\n",
    "l = 2.5\n",
    "k = 5\n",
    "\n",
    "poisson_dist(k,l)"
   ]
  },
  {
   "cell_type": "markdown",
   "metadata": {},
   "source": [
    "## Day 5: Poisson Distribution II\n",
    "The manager of a industrial plant is planning to buy a machine of either type $A$ or type $B$ . For each day’s operation:\n",
    "\n",
    "The number of repairs,$X$ , that machine $A$ needs is a Poisson random variable with mean $0.88$ . The daily cost of operating $A$ is $C_A = 160 + 40X^{2}$ .\n",
    "\n",
    "The number of repairs, $Y$ , that machine $B$ needs is a Poisson random variable with mean $1.55$ . The daily cost of operating $B$ is $C_B = 128 + 40Y^{2}$.\n",
    "\n",
    "Assume that the repairs take a negligible amount of time and the machines are maintained nightly to ensure that they operate like new at the start of each day. Find and print the expected daily cost for each machine."
   ]
  },
  {
   "cell_type": "code",
   "execution_count": 15,
   "metadata": {},
   "outputs": [
    {
     "name": "stdout",
     "output_type": "stream",
     "text": [
      "226.176\n",
      "286.1\n"
     ]
    }
   ],
   "source": [
    "A = 0.88\n",
    "B = 1.55\n",
    "#E[x^2] = lambda + lambda^2\n",
    "costa = 160 + 40 * (A + (A * A))\n",
    "costb = 128 + 40 * (B + (B * B))\n",
    "\n",
    "print costa\n",
    "print costb"
   ]
  },
  {
   "cell_type": "markdown",
   "metadata": {},
   "source": [
    "## Day 5: Normal Distribution I\n",
    "\n",
    "In a certain plant, the time taken to assemble a car is a random variable,$X$ , having a normal distribution with a mean of $20$ hours and a standard deviation of $2$ hours. What is the probability that a car can be assembled at this plant in:\n",
    "\n",
    "1. Less than $19.5$ hours?\n",
    "\n",
    "2. Between $20$ and $22$ hours?"
   ]
  },
  {
   "cell_type": "code",
   "execution_count": 16,
   "metadata": {},
   "outputs": [
    {
     "name": "stdout",
     "output_type": "stream",
     "text": [
      "0.401\n",
      "0.341\n"
     ]
    }
   ],
   "source": [
    "\n",
    "me,std = 20,2\n",
    "\n",
    "def cumulative_prob(mean,std,x):\n",
    "    cdf = 0.5 * ( 1 + math.erf(( x - me) / (std * ( 2 ** 0.5))))\n",
    "    return round(cdf,3)\n",
    "\n",
    "print cumulative_prob(20,2,19.5)\n",
    "print cumulative_prob(20,2,22) - cumulative_prob(20,2,20)"
   ]
  },
  {
   "cell_type": "markdown",
   "metadata": {},
   "source": [
    "## Day 5: Normal Distribution II\n",
    "The final grades for a Physics exam taken by a large group of students have a mean of $\\mu = 70$ and a standard deviation of $\\sigma = 10$. If we can approximate the distribution of these grades by a normal distribution, what percentage of the students:\n",
    "\n",
    "1 . Scored higher than $80$ (i.e., have a $grade > 80$ )?\n",
    "\n",
    "2 . Passed the test (i.e., have a $grade \\ge 60 $)?\n",
    "\n",
    "3 . Failed the test (i.e., have a $grade < 60$ )?"
   ]
  },
  {
   "cell_type": "code",
   "execution_count": 17,
   "metadata": {},
   "outputs": [
    {
     "name": "stdout",
     "output_type": "stream",
     "text": [
      "15.87\n",
      "84.13\n",
      "15.87\n"
     ]
    }
   ],
   "source": [
    "me , std = 70,10\n",
    "def cdf(x): \n",
    "    return 0.5*(1 + math.erf((x - me) / (std * math.sqrt(2))))\n",
    "\n",
    "print(round(100 - cdf(80) * 100,2))\n",
    "print(round(100 - cdf(60) * 100,2)) \n",
    "print(round(cdf(60) * 100,2))"
   ]
  },
  {
   "cell_type": "markdown",
   "metadata": {},
   "source": [
    "## Day 6: The Central Limit Theorem I\n",
    "A large elevator can transport a maximum of $9800$ pounds. Suppose a load of cargo containing $49$ boxes must be transported via the elevator. The box weight of this type of cargo follows a distribution with a mean of $\\mu = 205$ pounds and a standard deviation of $\\sigma = 15$ pounds. Based on this information, what is the probability that all $49$ boxes can be safely loaded into the freight elevator and transported?"
   ]
  },
  {
   "cell_type": "code",
   "execution_count": 18,
   "metadata": {},
   "outputs": [
    {
     "name": "stdout",
     "output_type": "stream",
     "text": [
      "0.0098\n"
     ]
    }
   ],
   "source": [
    "max_weight = 9800\n",
    "num_boxes = 49\n",
    "mean_weight = 205\n",
    "stdev_weight = 15\n",
    "\n",
    "def phi(x,mu,sigma):\n",
    "    phis = (1.0 + math.erf(( x - mu)/(sigma * math.sqrt(2.0))))/2.0\n",
    "    return phis\n",
    "\n",
    "z_val = (max_weight - num_boxes * mean_weight) / (math.sqrt(num_boxes) * stdev_weight)\n",
    "\n",
    "print round(phi(z_val,0,1),4)"
   ]
  },
  {
   "cell_type": "markdown",
   "metadata": {},
   "source": [
    "## Day 6: The Central Limit Theorem II\n",
    "\n",
    "The number of tickets purchased by each student for the University X vs. University Y football game follows a distribution that has a mean of $\\mu = 2.4$ and a standard deviation of $\\sigma = 2.0$ .\n",
    "\n",
    "A few hours before the game starts, $100$  eager students line up to purchase last-minute tickets. If there are only $250$ tickets left, what is the probability that all $100$ students will be able to purchase tickets?\n",
    "\n"
   ]
  },
  {
   "cell_type": "code",
   "execution_count": 19,
   "metadata": {},
   "outputs": [
    {
     "data": {
      "text/plain": [
       "1.0"
      ]
     },
     "execution_count": 19,
     "metadata": {},
     "output_type": "execute_result"
    }
   ],
   "source": [
    "cumulative_prob(100 * 2.4 ,(100**0.5)*2.0,250)"
   ]
  },
  {
   "cell_type": "markdown",
   "metadata": {},
   "source": [
    "## Day 6: The Central Limit Theorem III\n",
    "You have a sample of $100$ values from a population with mean $\\mu = 500$ and with standard deviation $\\sigma = 80$ . Compute the interval that covers the middle $95\\%$ of the distribution of the sample mean; in other words, compute $A$ and $B$ such that $P(A < x < B)$ . Use the value of $ z = 1.96 $. Note that  is the z-score."
   ]
  },
  {
   "cell_type": "code",
   "execution_count": 20,
   "metadata": {},
   "outputs": [
    {
     "name": "stdout",
     "output_type": "stream",
     "text": [
      "484.32\n",
      "515.68\n"
     ]
    }
   ],
   "source": [
    "N = 100\n",
    "me = 500\n",
    "std = 80\n",
    "per = .95\n",
    "z = 1.96\n",
    "\n",
    "def margin_of_error(z,std,n):\n",
    "    return ( z * std) / math.sqrt(n)\n",
    "\n",
    "A = me - margin_of_error(z,std,N)\n",
    "B = me + margin_of_error(z,std,N)\n",
    "\n",
    "print round(A,2)\n",
    "print round(B,2)"
   ]
  },
  {
   "cell_type": "markdown",
   "metadata": {},
   "source": [
    "## Day 7: Pearson Correlation Coefficient I\n",
    "Given two $n$-element data sets, $X$ and $Y$, calculate the value of the Pearson correlation coefficient."
   ]
  },
  {
   "cell_type": "code",
   "execution_count": 21,
   "metadata": {},
   "outputs": [
    {
     "name": "stdout",
     "output_type": "stream",
     "text": [
      "0.612\n"
     ]
    }
   ],
   "source": [
    "n = 10\n",
    "x = [10,9.8,8,7.8,7.7,7,6,5,4,2]\n",
    "y = [200,44,32,24,22,17,15,12,8,4]\n",
    "\n",
    "def covariance(x,y):\n",
    "    \n",
    "    n = len(x)\n",
    "    mx,my,sx,sy = mean(x),mean(y), stdev(x), stdev(y)\n",
    "    \n",
    "    cov = sum([(i-mx) * (j-my) for i,j in zip(x,y)])/(n * sx * sy)\n",
    "    return cov\n",
    "\n",
    "print round(covariance(x,y),3)"
   ]
  },
  {
   "cell_type": "markdown",
   "metadata": {},
   "source": [
    "## Day 7: Spearman's Rank Correlation Coefficient\n",
    "\n",
    "Given two $n$-element data sets, $X$ and $Y$, calculate the value of Spearman's rank correlation coefficient."
   ]
  },
  {
   "cell_type": "code",
   "execution_count": 22,
   "metadata": {},
   "outputs": [
    {
     "data": {
      "text/plain": [
       "0.9757575757575757"
      ]
     },
     "execution_count": 22,
     "metadata": {},
     "output_type": "execute_result"
    }
   ],
   "source": [
    "def spearman(x,y):\n",
    "    x_s = sorted(x)\n",
    "    y_s = sorted(y)\n",
    "    x_ranked = list()\n",
    "    y_ranked = list()\n",
    "    \n",
    "    for i in range(len(x)):\n",
    "        x_ranked.append([x[i],x_s.index(x[i])+1])\n",
    "        \n",
    "    for i in range(len(y)):\n",
    "        y_ranked.append([y[i],y_s.index(y[i])+1])\n",
    "        \n",
    "    d = [x_ranked[i][1] - y_ranked[i][1] for i in range(len(x_ranked))]\n",
    "    \n",
    "    dsquerd = [i**2 for i in d]\n",
    "    \n",
    "    sum_of_d_squ = sum(dsquerd)\n",
    "    \n",
    "    cumu_min = len(x)**3 - len(x)\n",
    "    \n",
    "    r =  1 - ((6.0*sum_of_d_squ)/cumu_min)\n",
    "    return r\n",
    "\n",
    "x = [0, 50, 150, 200, 250, 300, 350, 400, 450, 500]\n",
    "y = [0, 10, 28, 42, 59, 51, 73, 85, 104, 96]\n",
    "\n",
    "spearman(x,y)"
   ]
  },
  {
   "cell_type": "markdown",
   "metadata": {},
   "source": [
    "## Day 8: Least Square Regression Line\n",
    "\n",
    "A group of five students enrolls in Statistics immediately after taking a Math aptitude test. Each student's Math aptitude test score, $x$ , and Statistics course grade,$y$ , can be expressed as the following list of $(x,y)$ points:\n",
    "\n",
    "1. $(95,85)$\n",
    "2. $(85,95)$\n",
    "3. $(80,70)$\n",
    "4. $(70,65)$\n",
    "5. $(60,70)$\n",
    "\n",
    "If a student scored an $80$ on the Math aptitude test, what grade would we expect them to achieve in Statistics? Determine the equation of the best-fit line using the least squares method, then compute and print the value of $y$ when $x=80$."
   ]
  },
  {
   "cell_type": "code",
   "execution_count": 23,
   "metadata": {},
   "outputs": [
    {
     "name": "stdout",
     "output_type": "stream",
     "text": [
      "78.279\n"
     ]
    }
   ],
   "source": [
    "x = [95, 85, 80, 70, 60]\n",
    "y = [85, 95, 70, 65, 70]\n",
    "\n",
    "mu_x = mean(x)\n",
    "mu_y = mean(y)\n",
    "\n",
    "n = 0\n",
    "d = 0\n",
    "\n",
    "for i in range(len(x)):\n",
    "    n += (mu_x-x[i])*(mu_y-y[i])\n",
    "    d += (mu_y-x[i])**2 \n",
    "\n",
    "slope = (1.0*n)/d\n",
    "inter = mu_y - slope*mu_x\n",
    "y = slope*80+inter\n",
    "print (round(y,3))"
   ]
  },
  {
   "cell_type": "markdown",
   "metadata": {},
   "source": [
    "## Day 8: Pearson Correlation Coefficient II\n",
    "The regression line of $y$ on $x$ is $3x + 4y + 8 = 0$, and the regression line of $x$ on $y$ is $4x + 3y + 7 = 0$ . What is the value of the Pearson correlation coefficient?"
   ]
  },
  {
   "cell_type": "markdown",
   "metadata": {},
   "source": [
    "$-3 \\over 4 $"
   ]
  },
  {
   "cell_type": "markdown",
   "metadata": {},
   "source": [
    "## Day 9: Multiple Linear Regression\n",
    "Andrea has a simple equation:\n",
    "$Y = a + b_{1} . f_{1} + b_{1}.f_{2} + ... + b_{m}.f_{m}$\n",
    "for $(m + 1)$  real constants $(a,f_{1} ,f_{2} ,... ,f_{m} )$. We can say that the value of $Y$ depends on $m$ features. Andrea studies this equation for $n$ different feature sets $(f_{1} ,f_{2} ,... ,f_{m})$ and records each respective value of $Y$ . If she has $q$ new feature sets, can you help Andrea find the value of $Y$ for each of the sets?"
   ]
  },
  {
   "cell_type": "code",
   "execution_count": 2,
   "metadata": {},
   "outputs": [],
   "source": [
    "from sklearn import linear_model\n",
    "\n",
    "lm = linear_model.LinearRegression()\n",
    "#lm.fit(X, Y)"
   ]
  }
 ],
 "metadata": {
  "kernelspec": {
   "display_name": "Python 2",
   "language": "python",
   "name": "python2"
  },
  "language_info": {
   "codemirror_mode": {
    "name": "ipython",
    "version": 2
   },
   "file_extension": ".py",
   "mimetype": "text/x-python",
   "name": "python",
   "nbconvert_exporter": "python",
   "pygments_lexer": "ipython2",
   "version": "2.7.14"
  }
 },
 "nbformat": 4,
 "nbformat_minor": 2
}
